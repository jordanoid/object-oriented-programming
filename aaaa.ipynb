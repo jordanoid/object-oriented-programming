{
 "cells": [
  {
   "cell_type": "code",
   "execution_count": 2,
   "metadata": {},
   "outputs": [
    {
     "name": "stdout",
     "output_type": "stream",
     "text": [
      "Jordano Iqbal Darmawan\n",
      "21120120130073\n",
      "Angkatan 2020\n",
      "Dosen Wali Bu Ike\n",
      "Cempaka Putih Barat XI\n",
      "Selamat datang di MK PBO\n",
      "Selamat Datang di Teknik Komputer Fakultas Teknik\n",
      "Undip 2021\n",
      "Tembalang\n"
     ]
    }
   ],
   "source": [
    "print(\"Jordano Iqbal Darmawan\")\n",
    "print(\"21120120130073\")\n",
    "print(\"Angkatan 2020\")\n",
    "print(\"Dosen Wali Bu Ike\")\n",
    "print(\"Cempaka Putih Barat XI\")\n",
    "print(\"Selamat datang di MK PBO\")\n",
    "print(\"Selamat Datang di Teknik Komputer Fakultas Teknik\")\n",
    "print(\"Undip 2021\")\n",
    "print(\"Tembalang\")"
   ]
  },
  {
   "cell_type": "code",
   "execution_count": 3,
   "metadata": {},
   "outputs": [
    {
     "name": "stdout",
     "output_type": "stream",
     "text": [
      "20\n",
      "10000\n",
      "5\n",
      "40\n",
      "5.0\n",
      "20\n",
      "60\n"
     ]
    }
   ],
   "source": [
    "print(10+10)\n",
    "print(10**4)\n",
    "print(10-5)\n",
    "print(10*4)\n",
    "print(10/2)\n",
    "print(10+2*5)\n",
    "print((10+2)*5)"
   ]
  },
  {
   "cell_type": "code",
   "execution_count": 5,
   "metadata": {},
   "outputs": [
    {
     "name": "stdout",
     "output_type": "stream",
     "text": [
      "Jordano Iqbal Darmawan\n",
      "Jordano Iqbal Darmawan\n",
      "5\n",
      "10\n",
      "20\n",
      "30\n"
     ]
    }
   ],
   "source": [
    "nama = \"Jordano Iqbal Darmawan\"\n",
    "print(nama)\n",
    "print(\"Jordano Iqbal Darmawan\")\n",
    "kelas = 5\n",
    "a = 10\n",
    "b = 20\n",
    "print(kelas)\n",
    "print(a)\n",
    "print(b)\n",
    "print(a+b)"
   ]
  },
  {
   "cell_type": "code",
   "execution_count": 6,
   "metadata": {},
   "outputs": [
    {
     "name": "stdout",
     "output_type": "stream",
     "text": [
      "Menampilkan Kalender\n",
      "    October 2021\n",
      "Mo Tu We Th Fr Sa Su\n",
      "             1  2  3\n",
      " 4  5  6  7  8  9 10\n",
      "11 12 13 14 15 16 17\n",
      "18 19 20 21 22 23 24\n",
      "25 26 27 28 29 30 31\n",
      "\n",
      "Input tahun dan bulan dari user\n",
      "Menampilkan Kalender dari input\n",
      "   November 2021\n",
      "Mo Tu We Th Fr Sa Su\n",
      " 1  2  3  4  5  6  7\n",
      " 8  9 10 11 12 13 14\n",
      "15 16 17 18 19 20 21\n",
      "22 23 24 25 26 27 28\n",
      "29 30\n",
      "\n",
      "Tanggal : 9-11-2021\n",
      "Hari : Selasa\n"
     ]
    }
   ],
   "source": [
    "print(\"Menampilkan Kalender\")\n",
    "import calendar\n",
    "yyyy = 2021\n",
    "mm = 10\n",
    "print(calendar.month(yyyy,mm))\n",
    "print(\"Input tahun dan bulan dari user\")\n",
    "yyyy = int(input(\"Masukan tahun: \"))\n",
    "mm = int(input(\"Masukan bulan: \"))\n",
    "print(\"Menampilkan Kalender dari input\")\n",
    "print(calendar.month(yyyy,mm))\n",
    "dd = int(input(\"Masukan tanggal: \"))\n",
    "day = {0:\"Senin\", 1:\"Selasa\", 2:\"Rabu\", 3:\"Kamis\", 4:\"Jumat\", 5:\"Sabtu\", 6:\"Minggu\"}\n",
    "hari = calendar.weekday(yyyy, mm, dd)\n",
    "print(f\"Tanggal : {dd}-{mm}-{yyyy}\")\n",
    "print(\"Hari :\", day[hari])"
   ]
  },
  {
   "cell_type": "code",
   "execution_count": null,
   "metadata": {},
   "outputs": [],
   "source": []
  }
 ],
 "metadata": {
  "interpreter": {
   "hash": "3bd6d911f1576b0be2ac96b07a13fdaa0bb6a3771ce68bd319560bf46fbd7117"
  },
  "kernelspec": {
   "display_name": "Python 3.9.1 64-bit",
   "name": "python3"
  },
  "language_info": {
   "codemirror_mode": {
    "name": "ipython",
    "version": 3
   },
   "file_extension": ".py",
   "mimetype": "text/x-python",
   "name": "python",
   "nbconvert_exporter": "python",
   "pygments_lexer": "ipython3",
   "version": "3.9.1"
  },
  "orig_nbformat": 4
 },
 "nbformat": 4,
 "nbformat_minor": 2
}
